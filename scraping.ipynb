{
 "cells": [
  {
   "cell_type": "code",
   "execution_count": 1,
   "metadata": {},
   "outputs": [],
   "source": [
    "# make all the imports\n",
    "\n",
    "import requests\n",
    "from bs4 import BeautifulSoup\n",
    "from tqdm import tqdm\n",
    "import re\n",
    "from playwright.async_api import async_playwright\n",
    "playwright = await async_playwright().start()\n",
    "browser = await playwright.chromium.launch(headless = False)\n",
    "page = await browser.new_page()"
   ]
  },
  {
   "cell_type": "code",
   "execution_count": 2,
   "metadata": {},
   "outputs": [
    {
     "data": {
      "text/plain": [
       "<Response url='https://www.gunviolencearchive.org/' request=<Request url='https://www.gunviolencearchive.org/' method='GET'>>"
      ]
     },
     "execution_count": 2,
     "metadata": {},
     "output_type": "execute_result"
    }
   ],
   "source": [
    "# go to the website\n",
    "\n",
    "url = 'https://www.gunviolencearchive.org/'\n",
    "await page.goto(url)"
   ]
  },
  {
   "cell_type": "code",
   "execution_count": 3,
   "metadata": {},
   "outputs": [],
   "source": [
    "# click the 'reports' button\n",
    "\n",
    "await page.locator('//*[@id=\"block-gva-general-gva-navigation\"]/ul/li[4]/a').click()"
   ]
  },
  {
   "cell_type": "code",
   "execution_count": 4,
   "metadata": {},
   "outputs": [],
   "source": [
    "# try clicking the first report\n",
    "\n",
    "await page.locator('//*[@id=\"block-system-main\"]/div/div/div/div/div/ul[2]/li[1]/a').click()"
   ]
  },
  {
   "cell_type": "code",
   "execution_count": 31,
   "metadata": {},
   "outputs": [
    {
     "name": "stdout",
     "output_type": "stream",
     "text": [
      "/incident/2521112\n",
      "/incident/2521084\n",
      "/incident/2521423\n",
      "/incident/2518860\n",
      "/incident/2518281\n",
      "/incident/2518292\n",
      "/incident/2518344\n",
      "/incident/2518456\n",
      "/incident/2517797\n",
      "/incident/2516494\n",
      "/incident/2516309\n",
      "/incident/2514902\n",
      "/incident/2514220\n",
      "/incident/2514564\n",
      "/incident/2513512\n",
      "/incident/2513575\n",
      "/incident/2513517\n",
      "/incident/2513496\n",
      "/incident/2513044\n",
      "/incident/2513527\n",
      "/incident/2512985\n",
      "/incident/2512343\n",
      "/incident/2512617\n",
      "/incident/2510365\n",
      "/incident/2510063\n"
     ]
    }
   ],
   "source": [
    "# print all the href in 'a' tags that contain 'View Incident'\n",
    "\n",
    "html = await page.content()\n",
    "soup = BeautifulSoup(html, 'html.parser')\n",
    "links = soup.find_all('a', text='View Incident')\n",
    "for link in links:\n",
    "    href = link.get('href')\n",
    "    print(href)"
   ]
  },
  {
   "cell_type": "code",
   "execution_count": 32,
   "metadata": {},
   "outputs": [],
   "source": [
    "# click the 'next' button\n",
    "\n",
    "await page.locator('//*[@id=\"block-system-main\"]/div/ul/li[11]/a').click()"
   ]
  },
  {
   "cell_type": "code",
   "execution_count": 33,
   "metadata": {},
   "outputs": [],
   "source": [
    "# click the button in a loop (till the end of the results)\n",
    "\n",
    "while True:\n",
    "    try:\n",
    "        await page.locator('//*[@id=\"block-system-main\"]/div/ul/li[11]/a').click()\n",
    "    except: #Exception as e:\n",
    "        # raise(e)\n",
    "        break\n",
    "\n"
   ]
  },
  {
   "cell_type": "code",
   "execution_count": 30,
   "metadata": {},
   "outputs": [
    {
     "name": "stdout",
     "output_type": "stream",
     "text": [
      "/incident/2521112\n",
      "/incident/2521084\n",
      "/incident/2521423\n",
      "/incident/2518860\n",
      "/incident/2518281\n",
      "/incident/2518292\n",
      "/incident/2518344\n",
      "/incident/2518456\n",
      "/incident/2517797\n",
      "/incident/2516494\n",
      "/incident/2516309\n",
      "/incident/2514902\n",
      "/incident/2514220\n",
      "/incident/2514564\n",
      "/incident/2513512\n",
      "/incident/2513575\n",
      "/incident/2513517\n",
      "/incident/2513496\n",
      "/incident/2513044\n",
      "/incident/2513527\n",
      "/incident/2512985\n",
      "/incident/2512343\n",
      "/incident/2512617\n",
      "/incident/2510365\n",
      "/incident/2510063\n"
     ]
    }
   ],
   "source": [
    "# do the same thing but in a function\n",
    "\n",
    "async def extract_links(page):\n",
    "    html = await page.content()\n",
    "    soup = BeautifulSoup(html, 'html.parser')\n",
    "    links = soup.find_all('a', text='View Incident')\n",
    "    for link in links:\n",
    "        href = link.get('href')\n",
    "        print(href)\n",
    "\n",
    "await extract_links(page)"
   ]
  },
  {
   "cell_type": "code",
   "execution_count": null,
   "metadata": {},
   "outputs": [],
   "source": []
  }
 ],
 "metadata": {
  "kernelspec": {
   "display_name": "Python 3.11.0rc2 64-bit ('3.11.0rc2')",
   "language": "python",
   "name": "python3"
  },
  "language_info": {
   "codemirror_mode": {
    "name": "ipython",
    "version": 3
   },
   "file_extension": ".py",
   "mimetype": "text/x-python",
   "name": "python",
   "nbconvert_exporter": "python",
   "pygments_lexer": "ipython3",
   "version": "3.11.0rc2"
  },
  "orig_nbformat": 4,
  "vscode": {
   "interpreter": {
    "hash": "2940b0f369072eb2b83d9d2311c6635280482ed80ce5471425c54fb102273554"
   }
  }
 },
 "nbformat": 4,
 "nbformat_minor": 2
}
